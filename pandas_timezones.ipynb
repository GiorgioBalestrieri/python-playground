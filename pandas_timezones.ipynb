{
 "cells": [
  {
   "cell_type": "markdown",
   "metadata": {},
   "source": [
    "# Pandas Timezones\n",
    "\n",
    "See Chris Albon's [post](https://chrisalbon.com/machine_learning/preprocessing_dates_and_times/convert_pandas_column_timezone/) for reference."
   ]
  },
  {
   "cell_type": "code",
   "execution_count": 1,
   "metadata": {},
   "outputs": [],
   "source": [
    "from IPython.display import display # neat trick to display dataframes\n",
    "import pandas as pd"
   ]
  },
  {
   "cell_type": "markdown",
   "metadata": {},
   "source": [
    "### convert naive datetimeindex to timezone\n",
    "\n",
    "works for both `pd.date_range` and `pd.DatetimeIndex`"
   ]
  },
  {
   "cell_type": "code",
   "execution_count": 2,
   "metadata": {},
   "outputs": [
    {
     "data": {
      "text/plain": [
       "DatetimeIndex(['2015-01-01 00:00:00', '2015-01-01 01:00:00',\n",
       "               '2015-01-01 02:00:00', '2015-01-01 03:00:00',\n",
       "               '2015-01-01 04:00:00', '2015-01-01 05:00:00',\n",
       "               '2015-01-01 06:00:00', '2015-01-01 07:00:00',\n",
       "               '2015-01-01 08:00:00', '2015-01-01 09:00:00',\n",
       "               ...\n",
       "               '2015-12-31 14:00:00', '2015-12-31 15:00:00',\n",
       "               '2015-12-31 16:00:00', '2015-12-31 17:00:00',\n",
       "               '2015-12-31 18:00:00', '2015-12-31 19:00:00',\n",
       "               '2015-12-31 20:00:00', '2015-12-31 21:00:00',\n",
       "               '2015-12-31 22:00:00', '2015-12-31 23:00:00'],\n",
       "              dtype='datetime64[ns]', length=8760, freq='H')"
      ]
     },
     "metadata": {},
     "output_type": "display_data"
    },
    {
     "data": {
      "text/plain": [
       "DatetimeIndex(['2015-01-01 00:00:00+00:00', '2015-01-01 01:00:00+00:00',\n",
       "               '2015-01-01 02:00:00+00:00', '2015-01-01 03:00:00+00:00',\n",
       "               '2015-01-01 04:00:00+00:00', '2015-01-01 05:00:00+00:00',\n",
       "               '2015-01-01 06:00:00+00:00', '2015-01-01 07:00:00+00:00',\n",
       "               '2015-01-01 08:00:00+00:00', '2015-01-01 09:00:00+00:00',\n",
       "               ...\n",
       "               '2015-12-31 14:00:00+00:00', '2015-12-31 15:00:00+00:00',\n",
       "               '2015-12-31 16:00:00+00:00', '2015-12-31 17:00:00+00:00',\n",
       "               '2015-12-31 18:00:00+00:00', '2015-12-31 19:00:00+00:00',\n",
       "               '2015-12-31 20:00:00+00:00', '2015-12-31 21:00:00+00:00',\n",
       "               '2015-12-31 22:00:00+00:00', '2015-12-31 23:00:00+00:00'],\n",
       "              dtype='datetime64[ns, UTC]', length=8760, freq='H')"
      ]
     },
     "metadata": {},
     "output_type": "display_data"
    }
   ],
   "source": [
    "date_range = pd.date_range(start='2015', end='2016', freq='h')[:-1]\n",
    "\n",
    "display(date_range)\n",
    "\n",
    "display(date_range.tz_localize('UTC'))"
   ]
  },
  {
   "cell_type": "markdown",
   "metadata": {},
   "source": [
    "### Convert index from UTC to specific timezone\n",
    "\n",
    "Let's see a case where we have a column of datetimes (in UTC) and a column of timezones, and we want to convert each timezone into the corresponding timezone.\n",
    "\n",
    "* start and end can be pd.datetime objects as well\n",
    "* `DatetimeIndex` can be already generated for a specific timezone"
   ]
  },
  {
   "cell_type": "code",
   "execution_count": 3,
   "metadata": {},
   "outputs": [
    {
     "data": {
      "text/plain": [
       "DatetimeIndex(['2015-01-01 00:00:00+00:00', '2015-01-01 01:00:00+00:00',\n",
       "               '2015-01-01 02:00:00+00:00', '2015-01-01 03:00:00+00:00',\n",
       "               '2015-01-01 04:00:00+00:00', '2015-01-01 05:00:00+00:00',\n",
       "               '2015-01-01 06:00:00+00:00', '2015-01-01 07:00:00+00:00',\n",
       "               '2015-01-01 08:00:00+00:00', '2015-01-01 09:00:00+00:00',\n",
       "               ...\n",
       "               '2015-12-31 14:00:00+00:00', '2015-12-31 15:00:00+00:00',\n",
       "               '2015-12-31 16:00:00+00:00', '2015-12-31 17:00:00+00:00',\n",
       "               '2015-12-31 18:00:00+00:00', '2015-12-31 19:00:00+00:00',\n",
       "               '2015-12-31 20:00:00+00:00', '2015-12-31 21:00:00+00:00',\n",
       "               '2015-12-31 22:00:00+00:00', '2015-12-31 23:00:00+00:00'],\n",
       "              dtype='datetime64[ns, UTC]', length=8760, freq='H')"
      ]
     },
     "metadata": {},
     "output_type": "display_data"
    },
    {
     "data": {
      "text/plain": [
       "DatetimeIndex(['2015-01-01 00:00:00+00:00', '2015-01-01 01:00:00+00:00',\n",
       "               '2015-01-01 02:00:00+00:00', '2015-01-01 03:00:00+00:00',\n",
       "               '2015-01-01 04:00:00+00:00', '2015-01-01 05:00:00+00:00',\n",
       "               '2015-01-01 06:00:00+00:00', '2015-01-01 07:00:00+00:00',\n",
       "               '2015-01-01 08:00:00+00:00', '2015-01-01 09:00:00+00:00',\n",
       "               ...\n",
       "               '2015-12-31 14:00:00+00:00', '2015-12-31 15:00:00+00:00',\n",
       "               '2015-12-31 16:00:00+00:00', '2015-12-31 17:00:00+00:00',\n",
       "               '2015-12-31 18:00:00+00:00', '2015-12-31 19:00:00+00:00',\n",
       "               '2015-12-31 20:00:00+00:00', '2015-12-31 21:00:00+00:00',\n",
       "               '2015-12-31 22:00:00+00:00', '2015-12-31 23:00:00+00:00'],\n",
       "              dtype='datetime64[ns, Europe/London]', length=8760, freq='H')"
      ]
     },
     "metadata": {},
     "output_type": "display_data"
    }
   ],
   "source": [
    "date_range = pd.date_range(start='2015', end='2016', freq='h', tz='UTC')[:-1]\n",
    "\n",
    "display(date_range)\n",
    "\n",
    "display(date_range.tz_convert('Europe/London'))"
   ]
  },
  {
   "cell_type": "markdown",
   "metadata": {},
   "source": [
    "### Convert df column to respective timezones\n",
    "\n",
    "* using `np.random.choice` returns an array and looses the timezone awareness!\n",
    "* `tz_localize` can be used on a df column by using the `.dt` method.\n",
    "* `tz_convert` does not accept a list (array, list or anything else) of timezones, so we need to use `apply`. It's not blazing fast."
   ]
  },
  {
   "cell_type": "code",
   "execution_count": 4,
   "metadata": {},
   "outputs": [],
   "source": [
    "import numpy as np # only needed to choose random timezones\n",
    "import pytz # only needed to get a list of available timezones"
   ]
  },
  {
   "cell_type": "code",
   "execution_count": 5,
   "metadata": {},
   "outputs": [
    {
     "data": {
      "text/html": [
       "<div>\n",
       "<style scoped>\n",
       "    .dataframe tbody tr th:only-of-type {\n",
       "        vertical-align: middle;\n",
       "    }\n",
       "\n",
       "    .dataframe tbody tr th {\n",
       "        vertical-align: top;\n",
       "    }\n",
       "\n",
       "    .dataframe thead th {\n",
       "        text-align: right;\n",
       "    }\n",
       "</style>\n",
       "<table border=\"1\" class=\"dataframe\">\n",
       "  <thead>\n",
       "    <tr style=\"text-align: right;\">\n",
       "      <th></th>\n",
       "      <th>datetime</th>\n",
       "      <th>timezone</th>\n",
       "    </tr>\n",
       "  </thead>\n",
       "  <tbody>\n",
       "    <tr>\n",
       "      <th>0</th>\n",
       "      <td>2015-06-30 04:00:00+00:00</td>\n",
       "      <td>America/Santo_Domingo</td>\n",
       "    </tr>\n",
       "    <tr>\n",
       "      <th>1</th>\n",
       "      <td>2015-09-20 22:00:00+00:00</td>\n",
       "      <td>Africa/Porto-Novo</td>\n",
       "    </tr>\n",
       "    <tr>\n",
       "      <th>2</th>\n",
       "      <td>2015-03-19 05:00:00+00:00</td>\n",
       "      <td>America/Swift_Current</td>\n",
       "    </tr>\n",
       "    <tr>\n",
       "      <th>3</th>\n",
       "      <td>2015-04-30 13:00:00+00:00</td>\n",
       "      <td>Navajo</td>\n",
       "    </tr>\n",
       "    <tr>\n",
       "      <th>4</th>\n",
       "      <td>2015-09-14 06:00:00+00:00</td>\n",
       "      <td>Asia/Yerevan</td>\n",
       "    </tr>\n",
       "  </tbody>\n",
       "</table>\n",
       "</div>"
      ],
      "text/plain": [
       "                   datetime               timezone\n",
       "0 2015-06-30 04:00:00+00:00  America/Santo_Domingo\n",
       "1 2015-09-20 22:00:00+00:00      Africa/Porto-Novo\n",
       "2 2015-03-19 05:00:00+00:00  America/Swift_Current\n",
       "3 2015-04-30 13:00:00+00:00                 Navajo\n",
       "4 2015-09-14 06:00:00+00:00           Asia/Yerevan"
      ]
     },
     "metadata": {},
     "output_type": "display_data"
    },
    {
     "data": {
      "text/html": [
       "<div>\n",
       "<style scoped>\n",
       "    .dataframe tbody tr th:only-of-type {\n",
       "        vertical-align: middle;\n",
       "    }\n",
       "\n",
       "    .dataframe tbody tr th {\n",
       "        vertical-align: top;\n",
       "    }\n",
       "\n",
       "    .dataframe thead th {\n",
       "        text-align: right;\n",
       "    }\n",
       "</style>\n",
       "<table border=\"1\" class=\"dataframe\">\n",
       "  <thead>\n",
       "    <tr style=\"text-align: right;\">\n",
       "      <th></th>\n",
       "      <th>datetime</th>\n",
       "      <th>timezone</th>\n",
       "      <th>local_datetime</th>\n",
       "    </tr>\n",
       "  </thead>\n",
       "  <tbody>\n",
       "    <tr>\n",
       "      <th>0</th>\n",
       "      <td>2015-06-30 04:00:00+00:00</td>\n",
       "      <td>America/Santo_Domingo</td>\n",
       "      <td>2015-06-30 00:00:00-04:00</td>\n",
       "    </tr>\n",
       "    <tr>\n",
       "      <th>1</th>\n",
       "      <td>2015-09-20 22:00:00+00:00</td>\n",
       "      <td>Africa/Porto-Novo</td>\n",
       "      <td>2015-09-20 23:00:00+01:00</td>\n",
       "    </tr>\n",
       "    <tr>\n",
       "      <th>2</th>\n",
       "      <td>2015-03-19 05:00:00+00:00</td>\n",
       "      <td>America/Swift_Current</td>\n",
       "      <td>2015-03-18 23:00:00-06:00</td>\n",
       "    </tr>\n",
       "    <tr>\n",
       "      <th>3</th>\n",
       "      <td>2015-04-30 13:00:00+00:00</td>\n",
       "      <td>Navajo</td>\n",
       "      <td>2015-04-30 07:00:00-06:00</td>\n",
       "    </tr>\n",
       "    <tr>\n",
       "      <th>4</th>\n",
       "      <td>2015-09-14 06:00:00+00:00</td>\n",
       "      <td>Asia/Yerevan</td>\n",
       "      <td>2015-09-14 10:00:00+04:00</td>\n",
       "    </tr>\n",
       "  </tbody>\n",
       "</table>\n",
       "</div>"
      ],
      "text/plain": [
       "                   datetime               timezone             local_datetime\n",
       "0 2015-06-30 04:00:00+00:00  America/Santo_Domingo  2015-06-30 00:00:00-04:00\n",
       "1 2015-09-20 22:00:00+00:00      Africa/Porto-Novo  2015-09-20 23:00:00+01:00\n",
       "2 2015-03-19 05:00:00+00:00  America/Swift_Current  2015-03-18 23:00:00-06:00\n",
       "3 2015-04-30 13:00:00+00:00                 Navajo  2015-04-30 07:00:00-06:00\n",
       "4 2015-09-14 06:00:00+00:00           Asia/Yerevan  2015-09-14 10:00:00+04:00"
      ]
     },
     "metadata": {},
     "output_type": "display_data"
    }
   ],
   "source": [
    "date_range = pd.date_range(start='2015', end='2016', freq='h')[:-1]\n",
    "\n",
    "size = len(date_range)\n",
    "\n",
    "df = pd.DataFrame({\n",
    "    'datetime': np.random.choice(date_range, size), # random datetimes from the interval\n",
    "    'timezone': np.random.choice(pytz.all_timezones, size) # random timezones\n",
    "})\n",
    "\n",
    "# tz localize works on columns if we use .dt\n",
    "df['datetime'] = df['datetime'].dt.tz_localize('UTC')\n",
    "\n",
    "display(df.head())\n",
    "\n",
    "# convert each datetime to the corresponding timezone\n",
    "df['local_datetime'] = df.apply(\n",
    "    lambda row: row['datetime'].tz_convert(row['timezone']), \n",
    "    axis=1\n",
    ")\n",
    "\n",
    "display(df.head())"
   ]
  }
 ],
 "metadata": {
  "kernelspec": {
   "display_name": "Python 3",
   "language": "python",
   "name": "python3"
  },
  "language_info": {
   "codemirror_mode": {
    "name": "ipython",
    "version": 3
   },
   "file_extension": ".py",
   "mimetype": "text/x-python",
   "name": "python",
   "nbconvert_exporter": "python",
   "pygments_lexer": "ipython3",
   "version": "3.6.4"
  }
 },
 "nbformat": 4,
 "nbformat_minor": 2
}
