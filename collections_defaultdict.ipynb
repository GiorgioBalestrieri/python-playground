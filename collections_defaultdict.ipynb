{
 "cells": [
  {
   "cell_type": "markdown",
   "metadata": {},
   "source": [
    "# collections defaultdict"
   ]
  },
  {
   "cell_type": "code",
   "execution_count": 1,
   "metadata": {},
   "outputs": [],
   "source": [
    "from IPython.display import display\n",
    "\n",
    "from collections import defaultdict"
   ]
  },
  {
   "cell_type": "markdown",
   "metadata": {},
   "source": [
    "* `int` returns 0 by default\n",
    "* an object initialized as `dd = defaultdict(fun)`, is a special dictionary (guess what)\n",
    "that, when asked for a non-existing key `dd[new_key]` assignes `fun()` to it and returns the value.\n",
    "* it's super convenient whenever you want to create a dictionary where you count objects or list them"
   ]
  },
  {
   "cell_type": "code",
   "execution_count": 2,
   "metadata": {},
   "outputs": [
    {
     "data": {
      "text/plain": [
       "defaultdict(int,\n",
       "            {'battaglia': 1,\n",
       "             'come': 1,\n",
       "             'di': 1,\n",
       "             'guarda': 1,\n",
       "             'la': 1,\n",
       "             'magenta': 1,\n",
       "             'mamma': 2,\n",
       "             'mani': 1,\n",
       "             'piedi': 1,\n",
       "             'senza': 2})"
      ]
     },
     "metadata": {},
     "output_type": "display_data"
    }
   ],
   "source": [
    "text= '''guarda mamma senza mani senza piedi come la battaglia di magenta mamma'''\n",
    "\n",
    "# count words\n",
    "d = defaultdict(int)\n",
    "\n",
    "for word in text.split(' '):\n",
    "    d[word] += 1\n",
    "    \n",
    "display(d)"
   ]
  },
  {
   "cell_type": "code",
   "execution_count": 3,
   "metadata": {},
   "outputs": [
    {
     "data": {
      "text/plain": [
       "defaultdict(list,\n",
       "            {'b': ['battaglia'],\n",
       "             'c': ['come'],\n",
       "             'd': ['di'],\n",
       "             'g': ['guarda'],\n",
       "             'l': ['la'],\n",
       "             'm': ['mamma', 'mani', 'magenta', 'mamma'],\n",
       "             'p': ['piedi'],\n",
       "             's': ['senza', 'senza']})"
      ]
     },
     "metadata": {},
     "output_type": "display_data"
    }
   ],
   "source": [
    "# get list of words by initial letter\n",
    "\n",
    "d = defaultdict(list)\n",
    "\n",
    "for word in text.split(' '):\n",
    "    d[word[0]].append(word)\n",
    "\n",
    "display(d)"
   ]
  }
 ],
 "metadata": {
  "kernelspec": {
   "display_name": "Python 3",
   "language": "python",
   "name": "python3"
  },
  "language_info": {
   "codemirror_mode": {
    "name": "ipython",
    "version": 3
   },
   "file_extension": ".py",
   "mimetype": "text/x-python",
   "name": "python",
   "nbconvert_exporter": "python",
   "pygments_lexer": "ipython3",
   "version": "3.6.4"
  }
 },
 "nbformat": 4,
 "nbformat_minor": 2
}
